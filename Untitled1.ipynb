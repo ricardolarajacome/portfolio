{
 "cells": [
  {
   "cell_type": "markdown",
   "id": "62a7b53e",
   "metadata": {},
   "source": [
    "<p style=\"text-align: justify;\">The Wake County Watchdog team aims to provide insight into fiscal management by presenting a detailed analysis of expenditures against budget allocations for the current fiscal year. To ensure accessibility and inclusivity, a Power BI theme named \"Colorblind safe\" was implemented, addressing the needs of individuals with color vision deficiencies. For further information on this theme, refer to <a href=\"https://learn.microsoft.com/en-us/power-bi/create-reports/desktop-report-themes\" target=\"_blank\">Microsoft's official documentation on Power BI report themes</a>.</p>"
   ]
  },
  {
   "cell_type": "markdown",
   "id": "3483b680",
   "metadata": {},
   "source": [
    "<h2 style=\"text-align: justify;\">Budget vs. Expenditures Over Time:</h2>\n",
    "<p style=\"text-align: justify;\">This dashboard offers users a comprehensive overview of departmental spending trends, highlighting instances of budgetary overspending or underspending. Interactive features allow users to hover over specific departments to view quarterly expenditure trends from 2018 to 2019. Notably, the Capital Area Workforce Development department exceeded its budget for FY2019 in April, as illustrated in the bar chart.</p>"
   ]
  },
  {
   "cell_type": "code",
   "execution_count": 4,
   "id": "87363018",
   "metadata": {},
   "outputs": [
    {
     "data": {
      "text/html": [
       "\n",
       "        <iframe\n",
       "            width=\"560\"\n",
       "            height=\"315\"\n",
       "            src=\"https://www.youtube.com/embed/wENGmlkWXFE\"\n",
       "            frameborder=\"0\"\n",
       "            allowfullscreen\n",
       "            \n",
       "        ></iframe>\n",
       "        "
      ],
      "text/plain": [
       "<IPython.lib.display.IFrame at 0x119620e90>"
      ]
     },
     "execution_count": 4,
     "metadata": {},
     "output_type": "execute_result"
    }
   ],
   "source": [
    "from IPython.display import IFrame\n",
    "\n",
    "IFrame(\"https://www.youtube.com/embed/wENGmlkWXFE\", width=560, height=315)"
   ]
  },
  {
   "cell_type": "markdown",
   "id": "ebeec0ac",
   "metadata": {},
   "source": [
    "<h2 style=\"text-align: justify;\">Enhanced User Experience with Progressive Disclosure:</h2>\n",
    "<p style=\"text-align: justify;\">To streamline user interaction and minimize cognitive load, a toggle button has been incorporated to hide the departmental expenditure table when not immediately relevant to the user's analysis. This approach promotes clarity and enables users to focus on pertinent information.</p>"
   ]
  },
  {
   "cell_type": "code",
   "execution_count": 5,
   "id": "5e0a5223",
   "metadata": {},
   "outputs": [
    {
     "data": {
      "text/html": [
       "\n",
       "        <iframe\n",
       "            width=\"560\"\n",
       "            height=\"315\"\n",
       "            src=\"https://www.youtube.com/watch?v=Y9xpdB8z89M\"\n",
       "            frameborder=\"0\"\n",
       "            allowfullscreen\n",
       "            \n",
       "        ></iframe>\n",
       "        "
      ],
      "text/plain": [
       "<IPython.lib.display.IFrame at 0x1196223d0>"
      ]
     },
     "execution_count": 5,
     "metadata": {},
     "output_type": "execute_result"
    }
   ],
   "source": [
    "from IPython.display import IFrame\n",
    "\n",
    "IFrame(\"https://www.youtube.com/watch?v=Y9xpdB8z89M\", width=560, height=315)"
   ]
  },
  {
   "cell_type": "markdown",
   "id": "a132abc1",
   "metadata": {},
   "source": [
    "<h2 style=\"text-align: justify;\">Streamlined Data Exploration:</h2>\n",
    "<p style=\"text-align: justify;\">Users can effortlessly navigate through key data insights by utilizing intuitive navigation buttons located at the bottom of the dashboard. These buttons facilitate access to detailed breakdowns of expenditures over time, expenditures by fund, and expenditures by expense type, enhancing data exploration efficiency.</p>"
   ]
  },
  {
   "cell_type": "markdown",
   "id": "a7295dc8",
   "metadata": {},
   "source": [
    "from IPython.display import IFrame\n",
    "\n",
    "IFrame(\"https://www.youtube.com/watch?v=SUbmYIl-ZHM\", width=560, height=315)"
   ]
  },
  {
   "cell_type": "markdown",
   "id": "48e492fd",
   "metadata": {},
   "source": [
    "<h2 style=\"text-align: justify;\">Advanced Analytical Capabilities:</h2>\n",
    "<p style=\"text-align: justify;\">The inclusion of a Q&amp;A visual under the Major Facilities section empowers users to conduct in-depth inquiries into the dataset, such as determining the average cost of expenses for firefighters based on expenditure line items. Additionally, a dynamic tree map visualizes expenditure amounts by type, accompanied by a comprehensive table featuring date, activity, and expenditure details.</p>"
   ]
  },
  {
   "cell_type": "markdown",
   "id": "1a6db887",
   "metadata": {},
   "source": [
    "from IPython.display import IFrame\n",
    "\n",
    "IFrame(\"https://www.youtube.com/watch?v=JMfBg9w_Loo\", width=560, height=315)"
   ]
  },
  {
   "cell_type": "markdown",
   "id": "6c873857",
   "metadata": {},
   "source": [
    "<h2 style=\"text-align: justify;\">Optimized User Engagement with Mobile Layout:</h2>\n",
    "<p style=\"text-align: justify;\">Recognizing the importance of accessibility across various devices, a mobile-friendly layout has been developed to ensure seamless interaction with the dashboard, even on smaller screens. This layout preserves the principles of progressive disclosure, maintaining a user-centric approach to data exploration and analysis.</p>\n"
   ]
  },
  {
   "cell_type": "markdown",
   "id": "e915342c",
   "metadata": {},
   "source": [
    "from IPython.display import IFrame\n",
    "\n",
    "IFrame(\"https://www.youtube.com/watch?v=JU7h1GvCjX0\", width=560, height=315)"
   ]
  },
  {
   "cell_type": "markdown",
   "id": "6f07b881",
   "metadata": {},
   "source": [
    "<p style=\"text-align: justify;\">By implementing these strategies, the Wake County Watchdog team endeavors to deliver a sophisticated and user-centric data analytics platform, facilitating informed decision-making and fostering collaboration among stakeholders.</p>"
   ]
  },
  {
   "cell_type": "code",
   "execution_count": null,
   "id": "7e5580db",
   "metadata": {},
   "outputs": [],
   "source": []
  }
 ],
 "metadata": {
  "kernelspec": {
   "display_name": "Python 3 (ipykernel)",
   "language": "python",
   "name": "python3"
  },
  "language_info": {
   "codemirror_mode": {
    "name": "ipython",
    "version": 3
   },
   "file_extension": ".py",
   "mimetype": "text/x-python",
   "name": "python",
   "nbconvert_exporter": "python",
   "pygments_lexer": "ipython3",
   "version": "3.11.5"
  }
 },
 "nbformat": 4,
 "nbformat_minor": 5
}
